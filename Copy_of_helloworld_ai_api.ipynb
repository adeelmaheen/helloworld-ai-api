{
  "nbformat": 4,
  "nbformat_minor": 0,
  "metadata": {
    "colab": {
      "provenance": []
    },
    "kernelspec": {
      "name": "python3",
      "display_name": "Python 3"
    },
    "language_info": {
      "name": "python"
    }
  },
  "cells": [
    {
      "cell_type": "code",
      "execution_count": null,
      "metadata": {
        "id": "ObHVLQ5zYVyp"
      },
      "outputs": [],
      "source": [
        "\n",
        "!pip install -U -q google-genai"
      ]
    },
    {
      "cell_type": "code",
      "source": [
        "from google.colab import userdata\n",
        "import os\n",
        "\n",
        "os.environ['GOOGLE_API_KEY'] = userdata.get('GOOGLE_API_KEY')"
      ],
      "metadata": {
        "id": "84Bvrg71Yuiv"
      },
      "execution_count": null,
      "outputs": []
    },
    {
      "cell_type": "code",
      "source": [
        "from google import genai"
      ],
      "metadata": {
        "id": "-WCtygj2ZPV9"
      },
      "execution_count": null,
      "outputs": []
    },
    {
      "cell_type": "code",
      "source": [
        "from google import genai\n",
        "client = genai.Client()"
      ],
      "metadata": {
        "id": "84BBR-1sZUer"
      },
      "execution_count": null,
      "outputs": []
    },
    {
      "cell_type": "code",
      "source": [
        "MODEL: str = \"gemini-2.0-flash-exp\""
      ],
      "metadata": {
        "id": "gbRwDjn7ZY6F"
      },
      "execution_count": null,
      "outputs": []
    },
    {
      "cell_type": "code",
      "source": [
        "response = client.models.generate_content(\n",
        "    model=MODEL, contents='How does google colab work?'\n",
        ")\n",
        "print(response.text)"
      ],
      "metadata": {
        "colab": {
          "base_uri": "https://localhost:8080/"
        },
        "id": "PFozXRApZdUd",
        "outputId": "55b79d75-05c4-4139-c850-13ad821755d9"
      },
      "execution_count": null,
      "outputs": [
        {
          "output_type": "stream",
          "name": "stdout",
          "text": [
            "Okay, let's break down how Google Colab works, focusing on the key components and processes:\n",
            "\n",
            "**The Core Idea: Cloud-Based Jupyter Notebooks with Free Resources**\n",
            "\n",
            "At its heart, Google Colab is a service that provides you with a **free, cloud-based environment** to run Jupyter Notebooks. These notebooks are a popular format for data science, machine learning, and other code-related tasks. Colab takes care of the infrastructure, allowing you to focus on your code, data, and results.\n",
            "\n",
            "**Here's a more detailed breakdown of the key elements and how they interact:**\n",
            "\n",
            "1. **Jupyter Notebooks:**\n",
            "\n",
            "   - **Interactive Environment:** Jupyter Notebooks allow you to combine live code (primarily Python, but supports other languages), narrative text (using Markdown), equations, visualizations, and other multimedia elements within a single document.\n",
            "   - **Cell-Based Execution:** Code is written and executed in \"cells,\" and the results of each cell are displayed directly below it. This makes it ideal for experimentation, analysis, and presentation.\n",
            "   - **.ipynb Files:** Jupyter Notebooks are stored as `.ipynb` files, which are JSON-based documents.\n",
            "\n",
            "2. **Google's Infrastructure:**\n",
            "\n",
            "   - **Virtual Machines (VMs):** When you open a Colab notebook, Google allocates a virtual machine (VM) to you. This VM is a temporary, cloud-based computer.\n",
            "   - **Operating System (Typically Linux):** These VMs usually run a flavor of Linux.\n",
            "   - **Pre-Installed Packages:** The VM comes with many popular data science and machine learning libraries pre-installed (like NumPy, Pandas, scikit-learn, TensorFlow, PyTorch).\n",
            "   - **GPU and TPU Options:** Colab also provides access to powerful hardware accelerators (GPUs and TPUs) that can significantly speed up computations for deep learning tasks. You can choose to use a GPU or TPU through the runtime menu.\n",
            "\n",
            "3. **The Browser-Based Interface:**\n",
            "\n",
            "   - **Web Application:** Colab is entirely accessed through your web browser. This means you don't need to install any software on your local machine.\n",
            "   - **User Interface:** The interface is designed to resemble a traditional Jupyter Notebook, with a code editor, cell execution controls, and output displays.\n",
            "   - **File Management:** Colab lets you upload and download files, connect to Google Drive, and interact with the VM's file system.\n",
            "\n",
            "4. **Key Processes:**\n",
            "\n",
            "   - **Opening a Notebook:** When you open a `.ipynb` file in Colab (either by uploading it, creating a new one, or opening one from Google Drive/GitHub), a new VM is provisioned.\n",
            "   - **Cell Execution:** When you run a code cell, your code is sent to the VM.\n",
            "   - **Code Interpretation/Compilation:** On the VM, Python (or your chosen kernel) interprets or compiles your code.\n",
            "   - **Result Generation:** Results (output, errors, visualizations) are sent back from the VM to your browser and displayed below the code cell.\n",
            "   - **VM Lifecycle:** The VM is typically only active while your browser tab with the Colab notebook is open and running. After some period of inactivity, the VM will be reclaimed. If you've saved your files, they remain, just the VM is shut down.\n",
            "   - **Persistence:** You can persist your notebook and data in Google Drive, GitHub, or other cloud storage solutions.\n",
            "\n",
            "**How it All Works Together:**\n",
            "\n",
            "1. **You create or load a Jupyter Notebook in your browser.**\n",
            "2. **Google allocates a VM with the necessary resources.**\n",
            "3. **You write and execute code within the browser.**\n",
            "4. **Code is processed on the VM in the cloud.**\n",
            "5. **Results are sent back and displayed in your browser.**\n",
            "6. **You save your work to cloud storage.**\n",
            "7. **The VM is reclaimed after inactivity.**\n",
            "\n",
            "**Key Benefits of Google Colab:**\n",
            "\n",
            "* **Free Access:** The core functionality and access to reasonable resources are free.\n",
            "* **No Setup Required:** No need to install Python or libraries on your machine.\n",
            "* **Cloud-Based:** Access your work from any computer with an internet connection.\n",
            "* **Hardware Acceleration:** Access to GPUs and TPUs for resource-intensive computations.\n",
            "* **Easy Sharing:** Share your work easily with others through Google Drive.\n",
            "* **Collaboration:** Multiple users can collaborate on the same notebook.\n",
            "* **Version Control:** Integrated with Google Drive and GitHub for version control.\n",
            "\n",
            "**Limitations:**\n",
            "\n",
            "* **VM is Ephemeral:** The VM is not permanent. Data needs to be explicitly saved.\n",
            "* **Limited Resources:** While generous, resources are limited compared to paid cloud services.\n",
            "* **Idle Shutdown:** VMs will be reclaimed after a period of inactivity, requiring you to rerun code if you left it idle for too long.\n",
            "* **Network Dependent:** Requires a stable internet connection.\n",
            "* **Google Account Required:** You need a Google account to use Colab.\n",
            "\n",
            "**In Summary:**\n",
            "\n",
            "Google Colab is a powerful tool that makes data science and machine learning more accessible by providing free, cloud-based Jupyter Notebook environments with pre-configured resources and hardware acceleration. It eliminates the hassle of local setup, allowing you to focus on your analysis and code. It's a great platform for learning, experimenting, and collaborating on data-driven projects.\n",
            "\n"
          ]
        }
      ]
    }
  ]
}